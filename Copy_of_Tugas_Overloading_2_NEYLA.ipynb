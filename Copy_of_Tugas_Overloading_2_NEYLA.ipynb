{
  "nbformat": 4,
  "nbformat_minor": 0,
  "metadata": {
    "colab": {
      "provenance": [],
      "authorship_tag": "ABX9TyPUbjgm9sj1+BvM38yOxuF5",
      "include_colab_link": true
    },
    "kernelspec": {
      "name": "python3",
      "display_name": "Python 3"
    },
    "language_info": {
      "name": "python"
    }
  },
  "cells": [
    {
      "cell_type": "markdown",
      "metadata": {
        "id": "view-in-github",
        "colab_type": "text"
      },
      "source": [
        "<a href=\"https://colab.research.google.com/github/Renalf1/Inheritance12/blob/main/Copy_of_Tugas_Overloading_2_NEYLA.ipynb\" target=\"_parent\"><img src=\"https://colab.research.google.com/assets/colab-badge.svg\" alt=\"Open In Colab\"/></a>"
      ]
    },
    {
      "cell_type": "code",
      "execution_count": 5,
      "metadata": {
        "id": "4O5_zsrBePNi"
      },
      "outputs": [],
      "source": [
        "class nama:\n",
        "  def gabung(self, *args):\n",
        "    if(len(args) <=4):\n",
        "      sum =''\n",
        "      for num in args:\n",
        "        sum += num\n",
        "      print(sum)\n",
        "    else:\n",
        "      print(\"maksimum\")"
      ]
    },
    {
      "cell_type": "code",
      "source": [
        "hasil = nama()\n",
        "hasil.gabung(\"Neyla \", \"Ayudya \", \"Alfi \", \"Syafa\")\n",
        "hasil.gabung(\"Aulia \", \"Putri \", \"Mashita\")\n",
        "hasil.gabung(\"Riya \", \"Agustin\")\n",
        "hasil.gabung(\"Sania \", \"Regita \", \"Prahesti\")\n",
        "hasil.gabung(\"Sutriyani\")"
      ],
      "metadata": {
        "colab": {
          "base_uri": "https://localhost:8080/"
        },
        "id": "veDO2780eeyL",
        "outputId": "bb2890cb-f68f-4929-f524-7293d0767082"
      },
      "execution_count": 7,
      "outputs": [
        {
          "output_type": "stream",
          "name": "stdout",
          "text": [
            "Neyla Ayudya Alfi Syafa\n",
            "Aulia Putri Mashita\n",
            "Riya Agustin\n",
            "Sania Regita Prahesti\n",
            "Sutriyani\n"
          ]
        }
      ]
    },
    {
      "cell_type": "code",
      "source": [
        "#Tulisakan kesimpulan dari materi Overloading menurut pemahaman anda!\n",
        "#Menurut Saya materi OVERLOADING ini kita bisa membuat sebuah method yang bisa menangani beberapa variasi jumlah parameter."
      ],
      "metadata": {
        "id": "HNPwoBY8eh7w"
      },
      "execution_count": 4,
      "outputs": []
    }
  ]
}