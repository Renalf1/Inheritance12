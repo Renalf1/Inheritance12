{
  "nbformat": 4,
  "nbformat_minor": 0,
  "metadata": {
    "colab": {
      "provenance": [],
      "include_colab_link": true
    },
    "kernelspec": {
      "name": "python3",
      "display_name": "Python 3"
    },
    "language_info": {
      "name": "python"
    }
  },
  "cells": [
    {
      "cell_type": "markdown",
      "metadata": {
        "id": "view-in-github",
        "colab_type": "text"
      },
      "source": [
        "<a href=\"https://colab.research.google.com/github/Renalf1/Inheritance12/blob/main/Copy_of_TryoutUTSPraktek_ipynb_NEYLA.ipynb\" target=\"_parent\"><img src=\"https://colab.research.google.com/assets/colab-badge.svg\" alt=\"Open In Colab\"/></a>"
      ]
    },
    {
      "cell_type": "markdown",
      "source": [
        "Anda adalah seorang ilmuwan lingkungan yang bekerja dalam penelitian organisme di berbagai ekosistem. Anda memiliki kelas dasar Organisme dengan atribut berikut:\n",
        "\n",
        "*   nama (nama organisme)\n",
        "*   jenis (jenis organisme, misalnya, tumbuhan, hewan, mikroba, dll.)\n",
        "\n",
        "Selain itu, Anda memiliki dua jenis organisme spesifik: **Tumbuhan** dan **Hewan**.\n",
        "\n",
        "Tumbuhan memiliki atribut tambahan yaitu lokasi (lokasi tumbuhan ditemukan, misalnya, hutan, sungai, dll.)\n",
        "\n",
        "Sementara Hewan memiliki atribut tambahan yaitu makanan (jenis makanan yang dikonsumsi hewan, misalnya, herbivora, karnivora, omnivora, dll.)\n",
        "\n",
        "\n",
        "Anda ditugaskan membuat program Python yang memungkinkan Anda untuk mencetak informasi tentang setiap organisme, termasuk nama, jenis, serta atribut tambahan yang sesuai (lokasi atau jenis makanan)."
      ],
      "metadata": {
        "id": "Xcnm52jtL9YY"
      }
    },
    {
      "cell_type": "code",
      "execution_count": 9,
      "metadata": {
        "id": "9pLv2WhSLUZc"
      },
      "outputs": [],
      "source": [
        "class Organisme:\n",
        "  def __init__(self, nama, jenis):\n",
        "    self.nama = nama\n",
        "    self.jenis = jenis\n",
        "\n",
        "  def deskripsi(self):\n",
        "    print(self.nama, 'termasuk kedalam organisme berjenis', self.jenis)"
      ]
    },
    {
      "cell_type": "code",
      "source": [
        "class Tumbuhan(Organisme):\n",
        "  def __init__(self, nama, jenis, lokasi):\n",
        "    super().__init__(nama, jenis)\n",
        "    self.lokasi = lokasi\n",
        "\n",
        "  def hasil(self):\n",
        "    print(self.nama, 'termasuk kedalam organisme berjenis', self.jenis, '. Tanaman ini berlokasi di', self.lokasi)"
      ],
      "metadata": {
        "id": "aZ-2FjdaObMu"
      },
      "execution_count": 11,
      "outputs": []
    },
    {
      "cell_type": "code",
      "source": [
        "class Hewan(Organisme):\n",
        "  def __init__(self, nama, jenis, makanan):\n",
        "    super().__init__(nama, jenis)\n",
        "    self.makanan = makanan\n",
        "\n",
        "  def hasil(self):\n",
        "    print(self.nama, 'termasuk kedalam organisme berjenis', self.jenis, '. Makanan hewan ini adalah', self.makanan)"
      ],
      "metadata": {
        "id": "ItwqUUUjOdp4"
      },
      "execution_count": 5,
      "outputs": []
    },
    {
      "cell_type": "code",
      "source": [
        "#Buat program disini untuk menggunakan class-class di atas dan menampilkan informasi\n",
        "\n",
        "bunga1 = Tumbuhan(\"Edelweis\", \"Tanaman\", \"Gunung Bromo\")\n",
        "bunga1.hasil()\n",
        "\n",
        "hewan1 = Hewan(\"Burung\", \"Hewan\", \"Biji-bijian, Jadi hewan ini termasuk dalam kelompok Granivora\")\n",
        "hewan1.hasil()"
      ],
      "metadata": {
        "id": "gWi4_l0gOe-8",
        "colab": {
          "base_uri": "https://localhost:8080/"
        },
        "outputId": "ff43f9e4-f40b-4576-a97a-e105cee49447"
      },
      "execution_count": 14,
      "outputs": [
        {
          "output_type": "stream",
          "name": "stdout",
          "text": [
            "Edelweis termasuk kedalam organisme berjenis Tanaman . Tanaman ini berlokasi di Gunung Bromo\n",
            "Burung termasuk kedalam organisme berjenis Hewan . Makanan hewan ini adalah Biji-bijian, Jadi hewan ini termasuk dalam kelompok Granivora\n"
          ]
        }
      ]
    },
    {
      "cell_type": "markdown",
      "source": [
        "# Penjelasan:\n",
        "\n",
        "Class Organisme adalah kelas induk dengan atribut **nama** dan **jenis**. Fungsi **hasil** dalam kelas ini mencetak informasi umum tentang organisme.\n",
        "\n",
        "Class **Tumbuhan** mewarisi class Organisme dan memiliki atribut tambahan **lokasi**. Fungsi **hasil** dalam class ini memanggil fungsi **hasil** dari class dasar (super().deskripsi()) dan mencetak informasi tambahan tentang tumbuhan, yaitu **Edelweis termasuk kedalam organisme berjenis Tanaman . Tanaman ini berlokasi di Gunung Bromo**.\n",
        "\n",
        "Class **Hewan** juga mewarisi dari class **Organisme** dan memiliki atribut tambahan **makanan**. Fungsi **hasil** dalam class ini juga memanggil fungsi dari class Organisme dan mencetak informasi tambahan tentang hewan, yaitu **Burung termasuk kedalam organisme berjenis Hewan . Makanan hewan ini adalah Biji-bijian, Jadi hewan ini termasuk dalam kelompok Granivora**"
      ],
      "metadata": {
        "id": "2xAfWE4hMnGD"
      }
    }
  ]
}