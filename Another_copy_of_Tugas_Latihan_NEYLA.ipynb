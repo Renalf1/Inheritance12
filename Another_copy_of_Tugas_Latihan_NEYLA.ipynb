{
  "nbformat": 4,
  "nbformat_minor": 0,
  "metadata": {
    "colab": {
      "provenance": [],
      "include_colab_link": true
    },
    "kernelspec": {
      "name": "python3",
      "display_name": "Python 3"
    },
    "language_info": {
      "name": "python"
    }
  },
  "cells": [
    {
      "cell_type": "markdown",
      "metadata": {
        "id": "view-in-github",
        "colab_type": "text"
      },
      "source": [
        "<a href=\"https://colab.research.google.com/github/Renalf1/Inheritance12/blob/main/Another_copy_of_Tugas_Latihan_NEYLA.ipynb\" target=\"_parent\"><img src=\"https://colab.research.google.com/assets/colab-badge.svg\" alt=\"Open In Colab\"/></a>"
      ]
    },
    {
      "cell_type": "markdown",
      "source": [
        "Sebuah start-up GoPay merupakan perusahaan vintage yang menjadi alat pembayaran aplikasi marketplace dan lainnya. Anda seorang programmer yang ditugaskan untuk membuat aplikasi GoPay yang memiliki sebuah class bernama AkunGopay, yang memiliki atribut no_hp, nama dan saldo, dimana semua atribut bersifat private, demi keamanan.\n",
        "\n",
        "\n",
        "Pengguna bisa mendaftar akun GoPay dengan no_hp dan nama saja, namun juga bisa mendaftar dengan no_hp, nama dan saldo. Jika mendaftar dengan no_hp dan nama saja maka saldo otomatis bernilai 0.\n",
        "\n",
        "\n",
        "Class AkunGopay harus menyediakan fungsi yang dapat diakses oleh Marketplace untuk melakukan transaksi, yaitu :\n",
        "\n",
        "1.   topUp(), yang digunakan untuk menambahkan saldo\n",
        "2.   bayarTransaksi(), yang mengurangi saldo ketika melakukan transaksi\n",
        "3.   getSaldo(), untuk mengetahui jumlah saldo\n",
        "\n",
        "\n",
        "\n",
        "Teman Anda adalah seorang programer yang bekerja di sebuah start-up terkemuka Tokopedia yang bekerjasama dengan start-up keuangan GoPay. Anda ditugaskan membuat apikasi yang memiliki class AkunToped, dan memiliki atribut nama dan nomer_hp.\n",
        "\n",
        "Class AkunToped harus menyediakan fungsi yang untuk melakukan transaksi, yaitu:\n",
        "\n",
        "1. transaksi(), yang digunakan untuk mengurangi saldo Gopay dengan paramater nominal transaksi.\n",
        "2. getSaldo(), untuk mengetahui jumlah saldo Gopay.\n",
        "\n"
      ],
      "metadata": {
        "id": "NOQKwrfHB4pv"
      }
    },
    {
      "cell_type": "code",
      "execution_count": 13,
      "metadata": {
        "id": "peDTMz-5kxlh"
      },
      "outputs": [],
      "source": [
        "#Desain Class\n",
        "class AkunGopay:\n",
        "  def __init__(self, no_hp, nama, saldo=0):\n",
        "    self.__no_hp = no_hp\n",
        "    self.__nama = nama\n",
        "    self.__saldo = saldo\n",
        "  def topUp(self, jumlah):\n",
        "    if jumlah > 0:\n",
        "      self.__saldo += jumlah\n",
        "      print(f\"Saldo anda berhasil ditambahkan. Saldo anda sekarang bernilai:{self.__saldo}\")\n",
        "    else:\n",
        "      print(\"Jumlah top-up harus lebih dari 0.\")\n",
        "  def bayarTransaksi(self, jumlah):\n",
        "    if jumlah > 0 and self.__saldo >= jumlah:\n",
        "      self.__saldo -= jumlah\n",
        "      print(f'Transaksi berhasil. Saldo anda sekarang bernilai:{self.__saldo}')\n",
        "    else:\n",
        "      print(\"Saldo anda kurang\")\n",
        "  def getSaldo(self):\n",
        "    return self.__saldo\n",
        "\n",
        "class AkunToped (AkunGopay):\n",
        "  def __init__(self, nama, no_hp):\n",
        "    self.nama = nama\n",
        "    self.no_hp = no_hp\n",
        "  def transaksi(self, akun_gopay, jumlah):\n",
        "    if jumlah > 0 :\n",
        "      akun_gopay.bayarTransaksi(jumlah)\n",
        "    else:\n",
        "      print(\"Jumlah transaksi harus lebih dari 0\")\n",
        "  def getSaldo(self, akun_gopay):\n",
        "    return akun_gopay.getSaldo()"
      ]
    },
    {
      "cell_type": "code",
      "source": [
        "#Main Program\n",
        "akun_gopay = AkunGopay('0123', 'Neyla Ayudya')\n",
        "print('Saldo Awal:', akun_gopay.getSaldo())\n",
        "\n",
        "akun_gopay.topUp(100000)\n",
        "print('Saldo setelah top up:', akun_gopay.getSaldo())\n",
        "\n",
        "akun_toped = AkunToped('4567', 'Alfi Syafa')\n",
        "akun_toped.transaksi(akun_gopay, 101000)\n",
        "print('Saldo setelah transaksi:', akun_gopay.getSaldo())\n",
        "\n",
        "akun_toped.transaksi(akun_gopay, 20000)\n",
        "print('Saldo setelah transaksi:', akun_gopay.getSaldo())\n",
        "\n",
        "akun_toped.transaksi(akun_gopay, 0)\n",
        "print('Saldo setelah transaksi:', akun_gopay.getSaldo())"
      ],
      "metadata": {
        "id": "eitzekkYkycQ"
      },
      "execution_count": null,
      "outputs": []
    }
  ]
}